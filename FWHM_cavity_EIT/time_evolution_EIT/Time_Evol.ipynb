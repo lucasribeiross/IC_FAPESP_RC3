{
 "cells": [
  {
   "cell_type": "code",
   "execution_count": 1,
   "metadata": {},
   "outputs": [
    {
     "ename": "ModuleNotFoundError",
     "evalue": "No module named 'qutip'",
     "output_type": "error",
     "traceback": [
      "\u001b[0;31m---------------------------------------------------------------------------\u001b[0m",
      "\u001b[0;31mModuleNotFoundError\u001b[0m                       Traceback (most recent call last)",
      "\u001b[0;32m/tmp/ipykernel_31068/3795330395.py\u001b[0m in \u001b[0;36m<module>\u001b[0;34m\u001b[0m\n\u001b[1;32m      2\u001b[0m \u001b[0;32mimport\u001b[0m \u001b[0mnumpy\u001b[0m \u001b[0;32mas\u001b[0m \u001b[0mnp\u001b[0m\u001b[0;34m\u001b[0m\u001b[0;34m\u001b[0m\u001b[0m\n\u001b[1;32m      3\u001b[0m \u001b[0;32mimport\u001b[0m \u001b[0mscipy\u001b[0m\u001b[0;34m.\u001b[0m\u001b[0mlinalg\u001b[0m \u001b[0;32mas\u001b[0m \u001b[0mlin\u001b[0m\u001b[0;34m\u001b[0m\u001b[0;34m\u001b[0m\u001b[0m\n\u001b[0;32m----> 4\u001b[0;31m \u001b[0;32mfrom\u001b[0m \u001b[0mqutip\u001b[0m \u001b[0;32mimport\u001b[0m \u001b[0;34m*\u001b[0m\u001b[0;34m\u001b[0m\u001b[0;34m\u001b[0m\u001b[0m\n\u001b[0m",
      "\u001b[0;31mModuleNotFoundError\u001b[0m: No module named 'qutip'"
     ]
    }
   ],
   "source": [
    "import matplotlib.pyplot as plt\n",
    "import numpy as np\n",
    "import scipy.linalg as lin\n",
    "from qutip import *"
   ]
  },
  {
   "cell_type": "code",
   "execution_count": null,
   "metadata": {},
   "outputs": [],
   "source": [
    "#Parâmetros:\n",
    "\n",
    "kappa = 1.0                #taxa de dissipação da cavidade\n",
    "g = 5.0*kappa              #força de interação/constante de acoplamento\n",
    "epsilon = np.sqrt(0.01)*kappa        #1 fóton na cavidade com 1.0*kappa\n",
    "Delta1 = 0.0*kappa           \n",
    "Delta2 = 0.0*kappa         #ressonante (delta2 = 0)\n",
    "DeltaP = 0.001*kappa\n",
    "omegac_list = [0.01*kappa , 0.1*kappa, 0.5*kappa, 1*kappa, 3*kappa]        #frequência de Rabi do campo de controle\n",
    "\n",
    "       \n",
    "gamma = 1.0       #taxa de dissipação do átomo (espontâneo)\n",
    "gamma_13 = 0.5*gamma\n",
    "gamma_23 = 0.5*gamma\n",
    "\n",
    "N = 10   #número de estados Focks na cavidade (truncamento)\n",
    "\n",
    "tlist = np.logspace(0,4,150)/kappa"
   ]
  },
  {
   "cell_type": "code",
   "execution_count": null,
   "metadata": {},
   "outputs": [],
   "source": [
    "#Estados ( |k> = (N,k-1) , N úmero total de estados):\n",
    "\n",
    "state1 = basis(3,0)\n",
    "state2 = basis(3,1)\n",
    "state3 = basis(3,2) \n",
    "\n",
    "#Operadores (S representa o sigma - sigma_nm = |n><m| - simgma_nm=tensor(qeye(N),staten*statem.dag())):\n",
    "\n",
    "S11 = tensor(qeye(N),state1*state1.dag())\n",
    "S22 = tensor(qeye(N),state2*state2.dag()) \n",
    "S31 = tensor(qeye(N),state3*state1.dag())\n",
    "S13 = tensor(qeye(N),state1*state3.dag())\n",
    "S32 = tensor(qeye(N),state3*state2.dag())\n",
    "S23 = tensor(qeye(N),state2*state3.dag())\n",
    "S33 = tensor(qeye(N),state3*state3.dag())\n",
    "\n",
    "a = tensor(destroy(N),qeye(3))  #operador de aniquilação dos fótons (destrói uma estação do campo)\n",
    "\n",
    "\n",
    "#Operadores de colapso:\n",
    "\n",
    "c_ops_cav = np.sqrt(kappa)*a \n",
    "\n",
    "c_ops_atom_13 = np.sqrt(gamma_13)*S13\n",
    "\n",
    "c_ops_atom_23 = np.sqrt(gamma_23)*S23\n",
    "\n",
    "#Dissipação:\n",
    "\n",
    "c_ops_list = [c_ops_cav, c_ops_atom_13, c_ops_atom_23]\n"
   ]
  },
  {
   "cell_type": "code",
   "execution_count": null,
   "metadata": {},
   "outputs": [],
   "source": [
    "for i in range(len(omegac_list)):\n",
    "    \n",
    "    omegac = omegac_list[i]\n",
    "    print(omegac)\n",
    "    \n",
    "    \n",
    "    #Hamiltoniano: \n",
    "\n",
    "    H = Delta1*S33 + (Delta1-Delta2)*S22 + DeltaP*S11 - DeltaP*a.dag()*a + (g*a*S31 + omegac*S32 + epsilon*a + g*a.dag()*S13 + omegac*S23 + epsilon*a.dag())\n",
    "\n",
    "\n",
    "    #Evolução temporal: equação mestra\n",
    "\n",
    "#     psi0 = tensor(basis(N,0), state2)\n",
    "#     output = mesolve(H,psi0,tlist,c_ops_list,[a.dag()*a,S11,S22,S33])\n",
    "#     trans_ss_list = output.expect[0]/(4*(epsilon/kappa)**2)\n",
    "#     sig11_ss_list = output.expect[1]\n",
    "#     sig22_ss_list = output.expect[2]\n",
    "#     sig33_ss_list = output.expect[3]\n",
    "\n",
    "    #Evolução temporal: Propagador\n",
    "    \n",
    "    psi0 = tensor(basis(N,0),state2)\n",
    "    dim = N*3\n",
    "    rho0_m = ket2dm(psi0).full()\n",
    "    rho0_vec = rho0_m.reshape((dim**2,1))\n",
    "    \n",
    "    trans_ss_list = []\n",
    "    \n",
    "    for t in tlist:\n",
    "        \n",
    "        L = liouvillian(H,c_ops_list)\n",
    "        Ut = lin.expm(t*L.full())\n",
    "        rhot_vec = np.dot(Ut,rho0_vec)\n",
    "        rhot_m = rhot_vec.reshape((dim,dim))\n",
    "        trans_ss_list.append(np.trace(np.dot((a.dag()*a).full(),rhot_m))/(2*(epsilon/kappa)**2))\n",
    "    \n",
    "    data = np.vstack((tlist,trans_ss_list))\n",
    "    file_data_store('Oc=%f.dat'%omegac, data.T, numtype=\"real\", numformat=\"decimal\", sep= \" \") "
   ]
  },
  {
   "cell_type": "code",
   "execution_count": null,
   "metadata": {},
   "outputs": [],
   "source": [
    "for i in range(len(omegac_list)-1):\n",
    "    omegac = omegac_list[i+1]\n",
    "    filename = \"Oc=%.6f.dat\"%omegac\n",
    "    data = np.loadtxt(filename) #importa o arquivo .dat que você gerou\n",
    "    tlist = data[:,0] # [:,0] escolhe todas as linhas da primeira coluna\n",
    "    trans_list = data[:,1] # [:,1] escolhe todas as linhas da segunda coluna\n",
    "    plt.plot(tlist,trans_list,label=\"Oc=%.5f\"%omegac)\n",
    "    plt.xlim(1, 1E5)\n",
    "    plt.legend()\n",
    "    plt.xscale('log')\n",
    "    \n",
    "plt.title(\"Evolução temporal para epsilon\")"
   ]
  }
 ],
 "metadata": {
  "kernelspec": {
   "display_name": "Python 3 (ipykernel)",
   "language": "python",
   "name": "python3"
  },
  "language_info": {
   "codemirror_mode": {
    "name": "ipython",
    "version": 3
   },
   "file_extension": ".py",
   "mimetype": "text/x-python",
   "name": "python",
   "nbconvert_exporter": "python",
   "pygments_lexer": "ipython3",
   "version": "3.9.13"
  }
 },
 "nbformat": 4,
 "nbformat_minor": 4
}
