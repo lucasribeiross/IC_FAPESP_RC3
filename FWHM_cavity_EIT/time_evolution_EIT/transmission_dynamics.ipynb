{
 "cells": [
  {
   "cell_type": "code",
   "execution_count": 1,
   "metadata": {},
   "outputs": [],
   "source": [
    "import matplotlib.pyplot as plt\n",
    "import numpy as np\n",
    "import scipy.linalg as lin\n",
    "from qutip import *"
   ]
  },
  {
   "cell_type": "code",
   "execution_count": 28,
   "metadata": {},
   "outputs": [],
   "source": [
    "#Parâmetros:\n",
    "\n",
    "kappa = 1.0                #taxa de dissipação da cavidade\n",
    "g = 5.0*kappa              #força de interação/constante de acoplamento\n",
    "epsilon = np.sqrt(0.01)*kappa        #1 fóton na cavidade com 1.0*kappa\n",
    "Delta1 = 0.0*kappa           \n",
    "Delta2 = 0.0*kappa         #ressonante (delta2 = 0)\n",
    "DeltaP = 0.001*kappa\n",
    "omegac_list = [0.1*kappa,0.5*kappa,1.0*kappa,3.0*kappa]        #frequência de Rabi do campo de controle\n",
    "\n",
    "       \n",
    "gamma = 1.0       #taxa de dissipação do átomo (espontâneo)\n",
    "gamma_13 = 0.5*gamma\n",
    "gamma_23 = 0.5*gamma\n",
    "\n",
    "N = 6   #número de estados Focks na cavidade (truncamento)\n",
    "\n",
    "tlist = np.logspace(0,4,150)/kappa"
   ]
  },
  {
   "cell_type": "code",
   "execution_count": 29,
   "metadata": {},
   "outputs": [],
   "source": [
    "#Estados ( |k> = (N,k-1) , N úmero total de estados):\n",
    "\n",
    "state1 = basis(3,0)\n",
    "state2 = basis(3,1)\n",
    "state3 = basis(3,2) \n",
    "\n",
    "#Operadores (S representa o sigma - sigma_nm = |n><m| - simgma_nm=tensor(qeye(N),staten*statem.dag())):\n",
    "\n",
    "S11 = tensor(qeye(N),state1*state1.dag())\n",
    "S22 = tensor(qeye(N),state2*state2.dag()) \n",
    "S31 = tensor(qeye(N),state3*state1.dag())\n",
    "S13 = tensor(qeye(N),state1*state3.dag())\n",
    "S32 = tensor(qeye(N),state3*state2.dag())\n",
    "S23 = tensor(qeye(N),state2*state3.dag())\n",
    "S33 = tensor(qeye(N),state3*state3.dag())\n",
    "\n",
    "a = tensor(destroy(N),qeye(3))  #operador de aniquilação dos fótons (destrói uma estação do campo)\n",
    "\n",
    "\n",
    "#Operadores de colapso:\n",
    "\n",
    "c_ops_cav = np.sqrt(kappa)*a \n",
    "\n",
    "c_ops_atom_13 = np.sqrt(gamma_13)*S13\n",
    "\n",
    "c_ops_atom_23 = np.sqrt(gamma_23)*S23\n",
    "\n",
    "#Dissipação:\n",
    "\n",
    "c_ops_list = [c_ops_cav, c_ops_atom_13, c_ops_atom_23]\n"
   ]
  },
  {
   "cell_type": "code",
   "execution_count": 30,
   "metadata": {},
   "outputs": [
    {
     "name": "stdout",
     "output_type": "stream",
     "text": [
      "0.1\n",
      "0.5\n",
      "1.0\n",
      "3.0\n"
     ]
    }
   ],
   "source": [
    "for i in range(len(omegac_list)):\n",
    "    \n",
    "    omegac = omegac_list[i]\n",
    "    print(omegac)\n",
    "    \n",
    "    \n",
    "    #Hamiltoniano: \n",
    "\n",
    "    H = Delta1*S33 + (Delta1-Delta2)*S22 + DeltaP*S11 - DeltaP*a.dag()*a + (g*a*S31 + omegac*S32 + epsilon*a + g*a.dag()*S13 + omegac*S23 + epsilon*a.dag())\n",
    "\n",
    "\n",
    "    #Evolução temporal: equação mestra\n",
    "\n",
    "#     psi0 = tensor(basis(N,0), state2)\n",
    "#     output = mesolve(H,psi0,tlist,c_ops_list,[a.dag()*a,S11,S22,S33])\n",
    "#     trans_ss_list = output.expect[0]/(4*(epsilon/kappa)**2)\n",
    "#     sig11_ss_list = output.expect[1]\n",
    "#     sig22_ss_list = output.expect[2]\n",
    "#     sig33_ss_list = output.expect[3]\n",
    "\n",
    "    #Evolução temporal: Propagador\n",
    "    \n",
    "    if g*epsilon <= omegac:\n",
    "        psi0 = tensor(basis(N,0),state1)\n",
    "    else:\n",
    "        psi0 = tensor(basis(N,0),state2)\n",
    "        \n",
    "    dim = N*3\n",
    "    rho0_m = ket2dm(psi0).full()\n",
    "    rho0_vec = rho0_m.reshape((dim**2,1))\n",
    "    \n",
    "    trans_ss_list = []\n",
    "    \n",
    "    for t in tlist:\n",
    "        \n",
    "        L = liouvillian(H,c_ops_list)\n",
    "        Ut = lin.expm(t*L.full())\n",
    "        rhot_vec = np.dot(Ut,rho0_vec)\n",
    "        rhot_m = rhot_vec.reshape((dim,dim))\n",
    "        trans_ss_list.append(np.trace(np.dot((a.dag()*a).full(),rhot_m))/(4*(epsilon/kappa)**2))\n",
    "    \n",
    "    data = np.vstack((tlist,trans_ss_list))\n",
    "    file_data_store('Oc=%f.dat'%omegac, data.T, numtype=\"real\", numformat=\"decimal\", sep= \" \") "
   ]
  },
  {
   "cell_type": "code",
   "execution_count": 35,
   "metadata": {},
   "outputs": [
    {
     "name": "stdout",
     "output_type": "stream",
     "text": [
      "0\n",
      "1\n",
      "2\n",
      "3\n"
     ]
    },
    {
     "data": {
      "text/plain": [
       "Text(0.5, 1.0, 'Evolução temporal para epsilon')"
      ]
     },
     "execution_count": 35,
     "metadata": {},
     "output_type": "execute_result"
    },
    {
     "data": {
      "image/png": "[encoded data removed]",
      "text/plain": [
       "<Figure size 432x288 with 1 Axes>"
      ]
     },
     "metadata": {
      "needs_background": "light"
     },
     "output_type": "display_data"
    }
   ],
   "source": [
    "for i in range(len(omegac_list)):\n",
    "    print(i)\n",
    "    omegac = omegac_list[i]\n",
    "    filename = \"Oc=%.6f.dat\"%omegac\n",
    "    data = np.loadtxt(filename) #importa o arquivo .dat que você gerou\n",
    "    tlist = data[:,0] # [:,0] escolhe todas as linhas da primeira coluna\n",
    "    trans_list = data[:,1] # [:,1] escolhe todas as linhas da segunda coluna\n",
    "    plt.plot(tlist,trans_list,label=\"$\\Omega_c$=%.5f\"%omegac)\n",
    "    plt.xlim(1, 1E5)\n",
    "    plt.legend()\n",
    "    plt.xscale('log')\n",
    "    plt.xlabel(\"Tempo ($t \\cdot \\kappa$)\")\n",
    "    plt.ylabel(\"Transmissão normalizada\")\n",
    "\n",
    "plt.title(\"Evolução temporal para epsilon\")"
   ]
  },
  {
   "cell_type": "code",
   "execution_count": null,
   "metadata": {},
   "outputs": [],
   "source": []
  }
 ],
 "metadata": {
  "kernelspec": {
   "display_name": "Python 3 (ipykernel)",
   "language": "python",
   "name": "python3"
  },
  "language_info": {
   "codemirror_mode": {
    "name": "ipython",
    "version": 3
   },
   "file_extension": ".py",
   "mimetype": "text/x-python",
   "name": "python",
   "nbconvert_exporter": "python",
   "pygments_lexer": "ipython3",
   "version": "3.9.13"
  }
 },
 "nbformat": 4,
 "nbformat_minor": 4
}
